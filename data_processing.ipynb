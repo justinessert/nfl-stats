{
 "cells": [
  {
   "cell_type": "code",
   "execution_count": 1,
   "metadata": {
    "collapsed": true
   },
   "outputs": [],
   "source": [
    "import pandas as pd"
   ]
  },
  {
   "cell_type": "code",
   "execution_count": 2,
   "metadata": {},
   "outputs": [],
   "source": [
    "df = pd.read_csv('points_against.csv')"
   ]
  },
  {
   "cell_type": "code",
   "execution_count": 3,
   "metadata": {},
   "outputs": [],
   "source": [
    "df.loc[df.Opponent.str.contains(\"@\",na=False),'Home_Away'] = 'Away'\n",
    "df.loc[df.Home_Away.isnull(), 'Home_Away'] = 'Home'\n",
    "df.Opponent = df.Opponent.str.replace('@', '')"
   ]
  },
  {
   "cell_type": "code",
   "execution_count": 4,
   "metadata": {},
   "outputs": [],
   "source": [
    "df['Game_Dev'] = (df.Points_Against.astype(float) - df.Season_Ave.astype(float))/df.Season_Ave.astype(float)"
   ]
  },
  {
   "cell_type": "code",
   "execution_count": 5,
   "metadata": {},
   "outputs": [],
   "source": [
    "df_opponent = df[['Opponent','Position','Year']]\n",
    "df_opponent = df_opponent.drop_duplicates()\n",
    "df_opponent = df_opponent[df_opponent.Opponent != 'Bye']\n",
    "df_opponent.columns = ['Team','Position','Year']"
   ]
  },
  {
   "cell_type": "code",
   "execution_count": 6,
   "metadata": {},
   "outputs": [],
   "source": [
    "df_opponent['ave'] = 0\n",
    "df_opponent['std'] = 0\n",
    "for index, row in df_opponent.iterrows():\n",
    "    df_opponent.loc[(df_opponent['Team'] == row.Team) & (df_opponent.Position == row.Position) & (df_opponent.Year == row.Year),'ave'] = df[(df.Opponent == row.Team) & (df.Position == row.Position) & (df.Year == row.Year)].Game_Dev.mean()\n",
    "    df_opponent.loc[(df_opponent['Team'] == row.Team) & (df_opponent.Position == row.Position) & (df_opponent.Year == row.Year),'std'] = df[(df.Opponent == row.Team) & (df.Position == row.Position) & (df.Year == row.Year)].Game_Dev.std()"
   ]
  },
  {
   "cell_type": "code",
   "execution_count": 7,
   "metadata": {},
   "outputs": [],
   "source": [
    "def matchup(offense, defense):\n",
    "    df_off = df[(df['Team'] == 'Detroit Lions Defense')][['Team','Position','Season_Ave']]\n",
    "    df_off = df_off.drop_duplicates()\n",
    "    df_off.columns = ['Defense','Position','Season_Ave']\n",
    "    df_def = df_opponent[df_opponent['Team']==offense]\n",
    "    df_def.columns = ['Offense','Position','Year','Ave','STD']\n",
    "    df_matchup = pd.merge(left=df_off, right=df_def, left_on='Position', right_on='Position')\n",
    "    df_matchup['Lower_STD_Pred'] = (df_matchup['Ave']+1-df_matchup['STD'])*df_matchup['Season_Ave']\n",
    "    df_matchup['Mean_Pred'] = (df_matchup['Ave']+1)*df_matchup['Season_Ave']\n",
    "    df_matchup['Upper_STD_Pred'] = (df_matchup['Ave']+1+df_matchup['STD'])*df_matchup['Season_Ave']\n",
    "    df_matchup = df_matchup[['Offense','Defense','Position','Lower_STD_Pred','Mean_Pred','Upper_STD_Pred']]\n",
    "    return df_matchup\n",
    "    "
   ]
  },
  {
   "cell_type": "code",
   "execution_count": 8,
   "metadata": {},
   "outputs": [
    {
     "data": {
      "text/html": [
       "<div>\n",
       "<style>\n",
       "    .dataframe thead tr:only-child th {\n",
       "        text-align: right;\n",
       "    }\n",
       "\n",
       "    .dataframe thead th {\n",
       "        text-align: left;\n",
       "    }\n",
       "\n",
       "    .dataframe tbody tr th {\n",
       "        vertical-align: top;\n",
       "    }\n",
       "</style>\n",
       "<table border=\"1\" class=\"dataframe\">\n",
       "  <thead>\n",
       "    <tr style=\"text-align: right;\">\n",
       "      <th></th>\n",
       "      <th>Offense</th>\n",
       "      <th>Defense</th>\n",
       "      <th>Position</th>\n",
       "      <th>Lower_STD_Pred</th>\n",
       "      <th>Mean_Pred</th>\n",
       "      <th>Upper_STD_Pred</th>\n",
       "    </tr>\n",
       "  </thead>\n",
       "  <tbody>\n",
       "    <tr>\n",
       "      <th>0</th>\n",
       "      <td>GB</td>\n",
       "      <td>Detroit Lions Defense</td>\n",
       "      <td>QB</td>\n",
       "      <td>19.407082</td>\n",
       "      <td>27.414585</td>\n",
       "      <td>35.422088</td>\n",
       "    </tr>\n",
       "    <tr>\n",
       "      <th>1</th>\n",
       "      <td>GB</td>\n",
       "      <td>Detroit Lions Defense</td>\n",
       "      <td>RB</td>\n",
       "      <td>19.407082</td>\n",
       "      <td>27.414585</td>\n",
       "      <td>35.422088</td>\n",
       "    </tr>\n",
       "    <tr>\n",
       "      <th>2</th>\n",
       "      <td>GB</td>\n",
       "      <td>Detroit Lions Defense</td>\n",
       "      <td>WR</td>\n",
       "      <td>6.729964</td>\n",
       "      <td>13.743438</td>\n",
       "      <td>20.756913</td>\n",
       "    </tr>\n",
       "    <tr>\n",
       "      <th>3</th>\n",
       "      <td>GB</td>\n",
       "      <td>Detroit Lions Defense</td>\n",
       "      <td>TE</td>\n",
       "      <td>25.672236</td>\n",
       "      <td>37.032317</td>\n",
       "      <td>48.392397</td>\n",
       "    </tr>\n",
       "    <tr>\n",
       "      <th>4</th>\n",
       "      <td>GB</td>\n",
       "      <td>Detroit Lions Defense</td>\n",
       "      <td>K</td>\n",
       "      <td>0.821806</td>\n",
       "      <td>6.758347</td>\n",
       "      <td>12.694888</td>\n",
       "    </tr>\n",
       "  </tbody>\n",
       "</table>\n",
       "</div>"
      ],
      "text/plain": [
       "  Offense                Defense Position  Lower_STD_Pred  Mean_Pred  \\\n",
       "0      GB  Detroit Lions Defense       QB       19.407082  27.414585   \n",
       "1      GB  Detroit Lions Defense       RB       19.407082  27.414585   \n",
       "2      GB  Detroit Lions Defense       WR        6.729964  13.743438   \n",
       "3      GB  Detroit Lions Defense       TE       25.672236  37.032317   \n",
       "4      GB  Detroit Lions Defense        K        0.821806   6.758347   \n",
       "\n",
       "   Upper_STD_Pred  \n",
       "0       35.422088  \n",
       "1       35.422088  \n",
       "2       20.756913  \n",
       "3       48.392397  \n",
       "4       12.694888  "
      ]
     },
     "execution_count": 8,
     "metadata": {},
     "output_type": "execute_result"
    }
   ],
   "source": [
    "matchup('GB', 'Detroit Lions Defense')"
   ]
  },
  {
   "cell_type": "code",
   "execution_count": null,
   "metadata": {
    "collapsed": true
   },
   "outputs": [],
   "source": []
  }
 ],
 "metadata": {
  "kernelspec": {
   "display_name": "Python 3",
   "language": "python",
   "name": "python3"
  },
  "language_info": {
   "codemirror_mode": {
    "name": "ipython",
    "version": 3
   },
   "file_extension": ".py",
   "mimetype": "text/x-python",
   "name": "python",
   "nbconvert_exporter": "python",
   "pygments_lexer": "ipython3",
   "version": "3.6.1"
  },
  "toc": {
   "colors": {
    "hover_highlight": "#DAA520",
    "running_highlight": "#FF0000",
    "selected_highlight": "#FFD700"
   },
   "moveMenuLeft": true,
   "nav_menu": {
    "height": "12px",
    "width": "252px"
   },
   "navigate_menu": true,
   "number_sections": true,
   "sideBar": true,
   "threshold": 4,
   "toc_cell": false,
   "toc_section_display": "block",
   "toc_window_display": false,
   "widenNotebook": false
  }
 },
 "nbformat": 4,
 "nbformat_minor": 2
}
