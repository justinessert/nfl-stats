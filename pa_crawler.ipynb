{
 "cells": [
  {
   "cell_type": "code",
   "execution_count": 1,
   "metadata": {
    "collapsed": true
   },
   "outputs": [],
   "source": [
    "import requests\n",
    "from bs4 import BeautifulSoup\n",
    "import pandas as pd"
   ]
  },
  {
   "cell_type": "code",
   "execution_count": 2,
   "metadata": {
    "collapsed": true
   },
   "outputs": [],
   "source": [
    "year = '2017'\n",
    "weeks = 4"
   ]
  },
  {
   "cell_type": "code",
   "execution_count": 3,
   "metadata": {
    "collapsed": true
   },
   "outputs": [],
   "source": [
    "url_pre = \"http://ballerstein17.league.fantasy.nfl.com/research/pointsagainst?position=\"\n",
    "url_suf = \"&sort=pointsAgainst_pts&statCategory=pointsAgainst&statSeason=\"+year+\"&statType=weekPointsAgainst&statWeek=\"\n",
    "df = pd.DataFrame()\n",
    "pos_list = ['QB','RB','WR','TE','K','DEF']\n",
    "pos_nums = [1, 2, 3, 4, 7, 8]\n",
    "for pos in range(len(pos_list)):\n",
    "    url_base = url_pre + str(pos_nums[pos]) + url_suf\n",
    "    position = pos_list[pos]\n",
    "    for week in range(weeks):\n",
    "        page = requests.get(url_base+str(week+1))\n",
    "        soup_list = BeautifulSoup(page.content, 'html.parser').find_all('tr')\n",
    "        for i in soup_list:\n",
    "            row = i.find('td', class_='teamNameAndInfo')\n",
    "            if row != None:\n",
    "                team = list(row.find('div').children)[1]\n",
    "                opp = i.find('span', class_='pointsAgainstStatId-opponent').get_text()\n",
    "                pts = i.find('span', class_='pointsAgainstStatId-pts').get_text()\n",
    "                df_team = pd.DataFrame({'Team_Against':[team], 'Position':[position], 'Week':(week+1), 'Year':year, 'VS':[opp], 'Points_Against':[pts], 'Game_Count':0})\n",
    "                if opp != 'Bye':\n",
    "                    df_team['Game_Count'] = 1\n",
    "                df = pd.concat([df, df_team])"
   ]
  },
  {
   "cell_type": "code",
   "execution_count": 4,
   "metadata": {
    "collapsed": true
   },
   "outputs": [],
   "source": [
    "name = ['Miami Dolphins', 'Buffalo Bills','New England Patriots','New York Jets', 'Pittsburgh Steelers','Baltimore Ravens','Cleveland Browns','Cincinnati Bengals','Tennessee Titans','Jacksonville Jaguars','Houston Texans','Indianapolis Colts','Denver Broncos','Kansas City Chiefs','Oakland Raiders','Los Angeles Chargers','Philadelphia Eagles','Dallas Cowboys','Washington Redskins','New York Giants','Detroit Lions','Minnesota Vikings','Green Bay Packers','Chicago Bears','Atlanta Falcons','Carolina Panthers','Tampa Bay Buccaneers','New Orleans Saints','Los Angeles Rams','Seattle Seahawks','Arizona Cardinals','San Francisco 49ers','San Diego Chargers','St Louis Rams']\n",
    "abbr = ['MIA','BUF','NE','NYJ','PIT','BAL','CLE','CIN','TEN','JAX','HOU','IND','DEN','KC','OAK','LAC','PHI','DAL','WAS','NYG','DET','MIN','GB','CHI','ATL','CAR','TB','NO','LA','SEA','ARI','SF','SD','STL']\n",
    "\n",
    "for i in range(len(name)):\n",
    "    df.loc[df.Team_Against.str.contains(name[i]),'Team_Against'] = abbr[i]\n"
   ]
  },
  {
   "cell_type": "code",
   "execution_count": 5,
   "metadata": {
    "collapsed": true
   },
   "outputs": [],
   "source": [
    "df.loc[df.VS.str.contains(\"@\",na=False),'Home_Away'] = 'Away'\n",
    "df.loc[df.Home_Away.isnull(), 'Home_Away'] = 'Home'\n",
    "df.VS = df.VS.str.replace('@', '')"
   ]
  },
  {
   "cell_type": "code",
   "execution_count": 6,
   "metadata": {
    "collapsed": true
   },
   "outputs": [],
   "source": [
    "df.to_csv('data/points_against_'+year+'.csv')"
   ]
  },
  {
   "cell_type": "code",
   "execution_count": null,
   "metadata": {
    "collapsed": true
   },
   "outputs": [],
   "source": []
  }
 ],
 "metadata": {
  "kernelspec": {
   "display_name": "Python 3",
   "language": "python",
   "name": "python3"
  },
  "language_info": {
   "codemirror_mode": {
    "name": "ipython",
    "version": 3
   },
   "file_extension": ".py",
   "mimetype": "text/x-python",
   "name": "python",
   "nbconvert_exporter": "python",
   "pygments_lexer": "ipython3",
   "version": "3.6.1"
  },
  "toc": {
   "colors": {
    "hover_highlight": "#DAA520",
    "running_highlight": "#FF0000",
    "selected_highlight": "#FFD700"
   },
   "moveMenuLeft": true,
   "nav_menu": {
    "height": "12px",
    "width": "252px"
   },
   "navigate_menu": true,
   "number_sections": true,
   "sideBar": true,
   "threshold": 4,
   "toc_cell": false,
   "toc_section_display": "block",
   "toc_window_display": false,
   "widenNotebook": false
  }
 },
 "nbformat": 4,
 "nbformat_minor": 2
}
