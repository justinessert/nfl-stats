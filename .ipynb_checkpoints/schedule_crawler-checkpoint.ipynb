{
 "cells": [
  {
   "cell_type": "code",
   "execution_count": 1,
   "metadata": {
    "collapsed": true
   },
   "outputs": [],
   "source": [
    "import requests\n",
    "from bs4 import BeautifulSoup\n",
    "import pandas as pd"
   ]
  },
  {
   "cell_type": "code",
   "execution_count": 2,
   "metadata": {
    "collapsed": true
   },
   "outputs": [],
   "source": [
    "year = '2017'"
   ]
  },
  {
   "cell_type": "code",
   "execution_count": 3,
   "metadata": {
    "collapsed": true
   },
   "outputs": [],
   "source": [
    "df = pd.DataFrame()\n",
    "url_pre = 'http://www.nfl.com/schedules/'+year+'/REG'\n",
    "df = pd.DataFrame()\n",
    "for wk in range(17):\n",
    "    page = requests.get(url_pre+str(wk+1))\n",
    "    soup_list = BeautifulSoup(page.content, 'html.parser').find_all('div',class_='list-matchup-row-team')\n",
    "    for match in soup_list:\n",
    "        teams = match.find_all('span',class_=['team-name'])\n",
    "        if teams != []:\n",
    "            match_home = teams[0].get_text()\n",
    "            match_away = teams[1].get_text()\n",
    "            df_tmp = pd.DataFrame({'Home':[match_home],'Away':[match_away],'Week':(wk+1)})\n",
    "            df = pd.concat([df,df_tmp])"
   ]
  },
  {
   "cell_type": "code",
   "execution_count": 4,
   "metadata": {
    "collapsed": true
   },
   "outputs": [],
   "source": [
    "name = ['Dolphins', 'Bills','Patriots','Jets', 'Steelers','Ravens','Browns','Bengals','Titans','Jaguars','Texans','Colts','Broncos','Chiefs','Raiders','Chargers','Eagles','Cowboys','Redskins','Giants','Lions','Vikings','Packers','Bears','Falcons','Panthers','Buccaneers','Saints','Rams','Seahawks','Cardinals','49ers']\n",
    "abbr = ['MIA','BUF','NE','NYJ','PIT','BAL','CLE','CIN','TEN','JAX','HOU','IND','DEN','KC','OAK','LAC','PHI','DAL','WSH','NYG','DET','MIN','GB','CHI','ATL','CAR','TB','NO','LAR','SEA','ARI','SF']\n",
    "for i in range(len(name)):\n",
    "    df.loc[df.Home.str.contains(name[i]),'Home'] = abbr[i]\n",
    "    df.loc[df.Away.str.contains(name[i]),'Away'] = abbr[i]"
   ]
  },
  {
   "cell_type": "code",
   "execution_count": 7,
   "metadata": {
    "collapsed": true
   },
   "outputs": [],
   "source": [
    "df['Year'] = year\n",
    "df.to_csv('data/schedule_'+year+'.csv')"
   ]
  },
  {
   "cell_type": "code",
   "execution_count": null,
   "metadata": {
    "collapsed": true
   },
   "outputs": [],
   "source": []
  }
 ],
 "metadata": {
  "kernelspec": {
   "display_name": "Python 3",
   "language": "python",
   "name": "python3"
  },
  "language_info": {
   "codemirror_mode": {
    "name": "ipython",
    "version": 3
   },
   "file_extension": ".py",
   "mimetype": "text/x-python",
   "name": "python",
   "nbconvert_exporter": "python",
   "pygments_lexer": "ipython3",
   "version": "3.6.1"
  },
  "toc": {
   "colors": {
    "hover_highlight": "#DAA520",
    "running_highlight": "#FF0000",
    "selected_highlight": "#FFD700"
   },
   "moveMenuLeft": true,
   "nav_menu": {
    "height": "12px",
    "width": "252px"
   },
   "navigate_menu": true,
   "number_sections": true,
   "sideBar": true,
   "threshold": 4,
   "toc_cell": false,
   "toc_section_display": "block",
   "toc_window_display": false,
   "widenNotebook": false
  }
 },
 "nbformat": 4,
 "nbformat_minor": 2
}
