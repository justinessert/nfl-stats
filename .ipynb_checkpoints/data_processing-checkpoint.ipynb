{
 "cells": [
  {
   "cell_type": "code",
   "execution_count": 1,
   "metadata": {
    "collapsed": true
   },
   "outputs": [],
   "source": [
    "import pandas as pd \n",
    "import matplotlib.pyplot as plt"
   ]
  },
  {
   "cell_type": "code",
   "execution_count": 2,
   "metadata": {
    "collapsed": true
   },
   "outputs": [],
   "source": [
    "year = '2016'"
   ]
  },
  {
   "cell_type": "code",
   "execution_count": 3,
   "metadata": {
    "collapsed": true
   },
   "outputs": [],
   "source": [
    "df = pd.read_csv('data/points_against_'+year+'.csv')"
   ]
  },
  {
   "cell_type": "code",
   "execution_count": 4,
   "metadata": {},
   "outputs": [],
   "source": [
    "step = 2\n",
    "df.loc[((df.Position == 'WR') | (df.Position == 'RB')) & (df.Points_Against>46), 'Points_Against'] = 46;\n",
    "df.loc[((df.Position == 'WR') | (df.Position == 'RB')) & (df.Points_Against<0), 'Points_Against'] = -1;\n",
    "df.loc[((df.Position == 'QB') & (df.Points_Against>36)), 'Points_Against'] = 36;\n",
    "df.loc[((df.Position == 'QB') & (df.Points_Against<0)), 'Points_Against'] = -1;\n",
    "df.loc[((df.Position == 'TE') | (df.Position == 'K') | (df.Position == 'DEF')) & (df.Points_Against>26), 'Points_Against'] = 26;\n",
    "df.loc[((df.Position == 'TE') | (df.Position == 'K') | (df.Position == 'DEF')) & (df.Points_Against<0), 'Points_Against'] = -1;\n",
    "df.Points_Against = (df.Points_Against/step).astype(int)"
   ]
  },
  {
   "cell_type": "code",
   "execution_count": 5,
   "metadata": {},
   "outputs": [],
   "source": [
    "# Check what is the best indicator\n",
    "for pos in df.Position.unique():\n",
    "    df_pos = df.loc[(df.Position == pos) & (df.Game_Count==1)]\n",
    "    pos_mean = df_pos.Points_Against.astype(float).mean()\n",
    "    df = pd.concat([df, pd.DataFrame({'Position': [pos], 'Points_Against': [pos_mean], 'Team_Against':'Ave', 'VS':'Ave', 'Week':-1})])\n",
    "    for team in df.Team_Against.unique():\n",
    "        pa_mean = df_pos.loc[(df_pos.Team_Against == team),'Points_Against'].astype(float).mean()\n",
    "        df_pa = pd.DataFrame({'Position': [pos], 'Points_Against': [pa_mean], 'Team_Against':team, 'VS':'Ave', 'Week':-1});\n",
    "    \n",
    "        vs_mean = df_pos.loc[(df_pos.VS == team),'Points_Against'].astype(float).mean()\n",
    "        df_vs = pd.DataFrame({'Position': [pos], 'Points_Against': [vs_mean], 'Team_Against':'Ave', 'VS':team, 'Week':-1});\n",
    "        \n",
    "        df = pd.concat([df, df_pa, df_vs])\n",
    "    "
   ]
  },
  {
   "cell_type": "code",
   "execution_count": 18,
   "metadata": {},
   "outputs": [],
   "source": [
    "def matchup(team_1, team_2):\n",
    "    matchup = pd.DataFrame();\n",
    "    for pos in df.Position.unique():\n",
    "        print(pos)\n",
    "        team_1_pa = df.loc[(df.Team_Against == team_1) & (df.VS == 'Ave') & (df.Position == pos), 'Points_Against'].astype(float).mean();\n",
    "        team_2_pa = df.loc[(df.Team_Against == team_2) & (df.VS == 'Ave') & (df.Position == pos), 'Points_Against'].astype(float).mean();\n",
    "        print(team_1_pa)\n",
    "        print(team_2_pa)\n",
    "        team_1_vs = df.loc[(df.Team_Against == 'Ave') & (df.VS == team_1) & (df.Position == pos), 'Points_Against'].astype(float).mean();\n",
    "        team_2_vs = df.loc[(df.Team_Against == 'Ave') & (df.VS == team_2) & (df.Position == pos), 'Points_Against'].astype(float).mean();\n",
    "        print(team_1_vs)\n",
    "        print(team_2_vs)\n",
    "        pos_mean = df.loc[(df.Team_Against == 'Ave') & (df.VS == 'Ave') & (df.Position == pos), 'Points_Against'].astype(float).mean();\n",
    "        \n",
    "        df_pos = pd.DataFrame([{'Position':pos, 'Team_Against': team_1, 'VS': team_2, 'Points_Against': (team_1_pa*team_2_vs/pos_mean)},{'Position':pos, 'Team_Against': team_2, 'VS': team_1, 'Points_Against': (team_2_pa*team_1_vs/pos_mean)}])\n",
    "        \n",
    "        matchup = pd.concat([matchup,df_pos])\n",
    "    \n",
    "    matchup['Range_Low'] = (matchup['Points_Against'].astype(int))*step\n",
    "    matchup['Range_High'] = (matchup['Points_Against'].astype(int)+1)*step\n",
    "    return matchup[['Team_Against','VS','Position','Range_Low','Range_High']].reset_index(drop=True)\n",
    "        "
   ]
  },
  {
   "cell_type": "code",
   "execution_count": 21,
   "metadata": {},
   "outputs": [
    {
     "name": "stdout",
     "output_type": "stream",
     "text": [
      "QB\n",
      "8.3125\n",
      "7.0\n",
      "11.1875\n",
      "6.75\n",
      "RB\n",
      "7.625\n",
      "7.5625\n",
      "6.875\n",
      "6.4375\n",
      "WR\n",
      "13.9375\n",
      "8.875\n",
      "16.0\n",
      "9.9375\n",
      "TE\n",
      "3.625\n",
      "3.125\n",
      "2.125\n",
      "3.8125\n",
      "K\n",
      "3.6875\n",
      "3.75\n",
      "3.6875\n",
      "3.25\n",
      "DEF\n",
      "2.125\n",
      "3.0\n",
      "3.0\n",
      "4.75\n",
      "   Team_Against   VS Position  Range_Low  Range_High\n",
      "0            GB  MIN       QB         14          16\n",
      "1           MIN   GB       QB         20          22\n",
      "2            GB  MIN       RB         10          12\n",
      "3           MIN   GB       RB         10          12\n",
      "4            GB  MIN       WR         24          26\n",
      "5           MIN   GB       WR         26          28\n",
      "6            GB  MIN       TE          8          10\n",
      "7           MIN   GB       TE          4           6\n",
      "8            GB  MIN        K          6           8\n",
      "9           MIN   GB        K          6           8\n",
      "10           GB  MIN      DEF          6           8\n",
      "11          MIN   GB      DEF          4           6\n"
     ]
    }
   ],
   "source": [
    "print(matchup('GB','MIN'));\n",
    "#df[(df.Game_Count==1)&(df.Team_Against=='GB')&(df.Position=='QB')]"
   ]
  },
  {
   "cell_type": "code",
   "execution_count": 8,
   "metadata": {
    "collapsed": true
   },
   "outputs": [],
   "source": [
    "schedule_year = 2017\n",
    "df_schedule = pd.read_csv('data/schedule_'+str(schedule_year)+'.csv')\n",
    "def get_week(wk):\n",
    "    df_tmp = df_schedule[df_schedule['Week'] == wk].copy()\n",
    "\n",
    "    df_tmp['Team_1'] = df_tmp['Away']\n",
    "    df_tmp['Team_2'] = df_tmp['Home']\n",
    "    \n",
    "    return df_tmp[['Team_1','Team_2']].reset_index(drop=True)"
   ]
  },
  {
   "cell_type": "code",
   "execution_count": 9,
   "metadata": {
    "collapsed": true
   },
   "outputs": [],
   "source": [
    "wk = 4"
   ]
  },
  {
   "cell_type": "code",
   "execution_count": 10,
   "metadata": {},
   "outputs": [],
   "source": [
    "df_week = get_week(wk)\n",
    "df_wk_matchups = pd.DataFrame()\n",
    "for i in range(len(df_week)):\n",
    "    df_tmp = matchup(df_week.Team_1[i], df_week.Team_2[i])\n",
    "    df_wk_matchups = pd.concat([df_wk_matchups,df_tmp])"
   ]
  },
  {
   "cell_type": "code",
   "execution_count": 11,
   "metadata": {},
   "outputs": [],
   "source": [
    "df_tst = pd.read_csv('data/points_against_'+str(schedule_year)+'.csv')\n",
    "df_tst['Pred_l'] = 0;\n",
    "df_tst['Pred_h'] = 0;\n",
    "df_index = df_tst.loc[df_tst.Game_Count == 1][['Team_Against','VS','Week']].copy()\n",
    "df_index = df_index.drop_duplicates().reset_index(drop=True)\n",
    "for i in range(len(df_index)):\n",
    "    team_1 = df_index.iloc[i].Team_Against\n",
    "    team_2 = df_index.iloc[i].VS\n",
    "    wk = df_index.iloc[i].Week\n",
    "    df_pred = matchup(team_1,team_2)\n",
    "    for j in range(len(df_pred)):\n",
    "        ta = df_pred.iloc[j].Team_Against\n",
    "        vs = df_pred.iloc[j].VS\n",
    "        pos = df_pred.iloc[j].Position\n",
    "        df_tst.loc[((df_tst.Team_Against == ta) & (df_tst.VS == vs) & (df_tst.Week == wk)), 'Pred_l'] = df_pred.iloc[j].Range_Low\n",
    "        df_tst.loc[((df_tst.Team_Against == ta) & (df_tst.VS == vs) & (df_tst.Week == wk)), 'Pred_h'] = df_pred.iloc[j].Range_High"
   ]
  },
  {
   "cell_type": "code",
   "execution_count": 12,
   "metadata": {},
   "outputs": [
    {
     "name": "stdout",
     "output_type": "stream",
     "text": [
      "Dev 0:0.0651041666667\n",
      "Dev 1:0.263020833333\n",
      "Dev 2:0.416666666667\n",
      "Dev 5:0.713541666667\n"
     ]
    }
   ],
   "source": [
    "df_tst['Dev0'] = 0\n",
    "df_tst.loc[(df_tst.Points_Against>df_tst.Pred_l) & (df_tst.Points_Against<df_tst.Pred_h), 'Dev0'] = 1\n",
    "df_tst['Dev1'] = 0\n",
    "df_tst.loc[(df_tst.Points_Against>df_tst.Pred_l-step) & (df_tst.Points_Against<df_tst.Pred_h+step), 'Dev1'] = 1\n",
    "df_tst['Dev2'] = 0\n",
    "df_tst.loc[(df_tst.Points_Against>df_tst.Pred_l-2*step) & (df_tst.Points_Against<df_tst.Pred_h+2*step), 'Dev2'] = 1\n",
    "df_tst['Dev5'] = 0\n",
    "df_tst.loc[(df_tst.Points_Against>df_tst.Pred_l-5*step) & (df_tst.Points_Against<df_tst.Pred_h+5*step), 'Dev5'] = 1\n",
    "print('Dev 0:'+str(df_tst.Dev0.mean()))\n",
    "print('Dev 1:'+str(df_tst.Dev1.mean()))\n",
    "print('Dev 2:'+str(df_tst.Dev2.mean()))\n",
    "print('Dev 5:'+str(df_tst.Dev5.mean()))"
   ]
  },
  {
   "cell_type": "code",
   "execution_count": 13,
   "metadata": {},
   "outputs": [],
   "source": [
    "#df_wk_matchups[df_wk_matchups.Position=='QB'].sort_values('Range_Low',ascending=False)"
   ]
  },
  {
   "cell_type": "code",
   "execution_count": null,
   "metadata": {
    "collapsed": true
   },
   "outputs": [],
   "source": []
  }
 ],
 "metadata": {
  "kernelspec": {
   "display_name": "Python 3",
   "language": "python",
   "name": "python3"
  },
  "language_info": {
   "codemirror_mode": {
    "name": "ipython",
    "version": 3
   },
   "file_extension": ".py",
   "mimetype": "text/x-python",
   "name": "python",
   "nbconvert_exporter": "python",
   "pygments_lexer": "ipython3",
   "version": "3.6.1"
  },
  "toc": {
   "colors": {
    "hover_highlight": "#DAA520",
    "running_highlight": "#FF0000",
    "selected_highlight": "#FFD700"
   },
   "moveMenuLeft": true,
   "nav_menu": {
    "height": "12px",
    "width": "252px"
   },
   "navigate_menu": true,
   "number_sections": true,
   "sideBar": true,
   "threshold": 4,
   "toc_cell": false,
   "toc_section_display": "block",
   "toc_window_display": false,
   "widenNotebook": false
  }
 },
 "nbformat": 4,
 "nbformat_minor": 2
}
