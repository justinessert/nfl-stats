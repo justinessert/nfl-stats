{
 "cells": [
  {
   "cell_type": "code",
   "execution_count": 1,
   "metadata": {
    "collapsed": true
   },
   "outputs": [],
   "source": [
    "import requests\n",
    "from bs4 import BeautifulSoup\n",
    "import pandas as pd"
   ]
  },
  {
   "cell_type": "code",
   "execution_count": 2,
   "metadata": {
    "collapsed": true
   },
   "outputs": [],
   "source": [
    "year = '2017'\n",
    "weeks = 2"
   ]
  },
  {
   "cell_type": "code",
   "execution_count": 3,
   "metadata": {
    "collapsed": true
   },
   "outputs": [],
   "source": [
    "url_pre = \"http://ballerstein17.league.fantasy.nfl.com/research/pointsagainst?position=\"\n",
    "url_suf = \"&sort=pointsAgainst_pts&statCategory=pointsAgainst&statSeason=\"+year+\"&statType=weekPointsAgainst&statWeek=\"\n",
    "df = pd.DataFrame()\n",
    "pos_list = ['QB','RB','WR','TE','K','DEF']\n",
    "pos_nums = [1, 2, 3, 4, 7, 8]\n",
    "for pos in range(len(pos_list)):\n",
    "    url_base = url_pre + str(pos_nums[pos]) + url_suf\n",
    "    position = pos_list[pos]\n",
    "    for week in range(weeks):\n",
    "        page = requests.get(url_base+str(week+1))\n",
    "        soup_list = BeautifulSoup(page.content, 'html.parser').find_all('tr')\n",
    "        for i in soup_list:\n",
    "            row = i.find('td', class_='teamNameAndInfo')\n",
    "            if row != None:\n",
    "                team = list(row.find('div').children)[1]\n",
    "                opp = i.find('span', class_='pointsAgainstStatId-opponent').get_text()\n",
    "                pts = i.find('span', class_='pointsAgainstStatId-pts').get_text()\n",
    "                df_team = pd.DataFrame({'Team':[team], 'Position':[position], 'Week':(week+1), 'Year':year, 'Opponent':[opp], 'Points_Against':[pts], 'Game_Count':0})\n",
    "                if opp != 'Bye':\n",
    "                    df_team['Game_Count'] = 1\n",
    "                df = pd.concat([df, df_team])"
   ]
  },
  {
   "cell_type": "code",
   "execution_count": 4,
   "metadata": {},
   "outputs": [],
   "source": [
    "name = ['Miami Dolphins', 'Buffalo Bills','New England Patriots','New York Jets', 'Pittsburgh Steelers','Baltimore Ravens','Cleveland Browns','Cincinnati Bengals','Tennessee Titans','Jacksonville Jaguars','Houston Texans','Indianapolis Colts','Denver Broncos','Kansas City Chiefs','Oakland Raiders','Los Angeles Chargers','Philadelphia Eagles','Dallas Cowboys','Washington Redskins','New York Giants','Detroit Lions','Minnesota Vikings','Green Bay Packers','Chicago Bears','Atlanta Falcons','Carolina Panthers','Tampa Bay Buccaneers','New Orleans Saints','Los Angeles Rams','Seattle Seahawks','Arizona Cardinals','San Francisco 49ers','San Diego Chargers','St Louis Rams']\n",
    "abbr = ['MIA','BUF','NE','NYJ','PIT','BAL','CLE','CIN','TEN','JAX','HOU','IND','DEN','KC','OAK','LAC','PHI','DAL','WSH','NYG','DET','MIN','GB','CHI','ATL','CAR','TB','NO','LAR','SEA','ARI','SF','SD','STL']\n",
    "\n",
    "for i in range(len(name)):\n",
    "    df.loc[df.Team.str.contains(name[i]),'Team'] = abbr[i]\n"
   ]
  },
  {
   "cell_type": "code",
   "execution_count": 5,
   "metadata": {
    "collapsed": true
   },
   "outputs": [],
   "source": [
    "df.loc[df.Opponent.str.contains(\"@\",na=False),'Home_Away'] = 'Away'\n",
    "df.loc[df.Home_Away.isnull(), 'Home_Away'] = 'Home'\n",
    "df.Opponent = df.Opponent.str.replace('@', '')"
   ]
  },
  {
   "cell_type": "code",
   "execution_count": 6,
   "metadata": {},
   "outputs": [],
   "source": [
    "for pos in df.Position.unique():\n",
    "    for team in df.Team.unique():\n",
    "        weeks = df[(df.Team == team) & (df.Position == pos)].Game_Count.sum()\n",
    "        if weeks != 0:\n",
    "            ave = df[(df.Team == team) & (df.Position == pos)].Points_Against.astype(float).sum() / weeks\n",
    "        else:\n",
    "            print(df[(df.Team == team) & (df.Position == pos)])\n",
    "        std = df[(df.Team == team) & (df.Position == pos)].Points_Against.astype(float).std()\n",
    "        df.loc[(df.Team == team) & (df.Position == pos), 'Season_Ave'] = ave\n",
    "        df.loc[(df.Team == team) & (df.Position == pos), 'Season_STD'] = std"
   ]
  },
  {
   "cell_type": "code",
   "execution_count": 7,
   "metadata": {
    "collapsed": true
   },
   "outputs": [],
   "source": [
    "df.to_csv('points_against_'+year+'.csv')"
   ]
  },
  {
   "cell_type": "code",
   "execution_count": 9,
   "metadata": {},
   "outputs": [
    {
     "data": {
      "text/html": [
       "<div>\n",
       "<style>\n",
       "    .dataframe thead tr:only-child th {\n",
       "        text-align: right;\n",
       "    }\n",
       "\n",
       "    .dataframe thead th {\n",
       "        text-align: left;\n",
       "    }\n",
       "\n",
       "    .dataframe tbody tr th {\n",
       "        vertical-align: top;\n",
       "    }\n",
       "</style>\n",
       "<table border=\"1\" class=\"dataframe\">\n",
       "  <thead>\n",
       "    <tr style=\"text-align: right;\">\n",
       "      <th></th>\n",
       "      <th>Game_Count</th>\n",
       "      <th>Opponent</th>\n",
       "      <th>Points_Against</th>\n",
       "      <th>Position</th>\n",
       "      <th>Team</th>\n",
       "      <th>Week</th>\n",
       "      <th>Year</th>\n",
       "      <th>Home_Away</th>\n",
       "      <th>Season_Ave</th>\n",
       "      <th>Season_STD</th>\n",
       "    </tr>\n",
       "  </thead>\n",
       "  <tbody>\n",
       "    <tr>\n",
       "      <th>0</th>\n",
       "      <td>0</td>\n",
       "      <td>Bye</td>\n",
       "      <td>0.00</td>\n",
       "      <td>QB</td>\n",
       "      <td>MIA</td>\n",
       "      <td>1</td>\n",
       "      <td>2017</td>\n",
       "      <td>Home</td>\n",
       "      <td>17.24</td>\n",
       "      <td>12.190521</td>\n",
       "    </tr>\n",
       "    <tr>\n",
       "      <th>0</th>\n",
       "      <td>1</td>\n",
       "      <td>LAC</td>\n",
       "      <td>17.24</td>\n",
       "      <td>QB</td>\n",
       "      <td>MIA</td>\n",
       "      <td>2</td>\n",
       "      <td>2017</td>\n",
       "      <td>Away</td>\n",
       "      <td>17.24</td>\n",
       "      <td>12.190521</td>\n",
       "    </tr>\n",
       "  </tbody>\n",
       "</table>\n",
       "</div>"
      ],
      "text/plain": [
       "   Game_Count Opponent Points_Against Position Team  Week  Year Home_Away  \\\n",
       "0           0      Bye           0.00       QB  MIA     1  2017      Home   \n",
       "0           1      LAC          17.24       QB  MIA     2  2017      Away   \n",
       "\n",
       "   Season_Ave  Season_STD  \n",
       "0       17.24   12.190521  \n",
       "0       17.24   12.190521  "
      ]
     },
     "execution_count": 9,
     "metadata": {},
     "output_type": "execute_result"
    }
   ],
   "source": [
    "df[(df.Team=='MIA')&(df.Position=='QB')]"
   ]
  },
  {
   "cell_type": "code",
   "execution_count": null,
   "metadata": {
    "collapsed": true
   },
   "outputs": [],
   "source": []
  }
 ],
 "metadata": {
  "kernelspec": {
   "display_name": "Python 3",
   "language": "python",
   "name": "python3"
  },
  "language_info": {
   "codemirror_mode": {
    "name": "ipython",
    "version": 3
   },
   "file_extension": ".py",
   "mimetype": "text/x-python",
   "name": "python",
   "nbconvert_exporter": "python",
   "pygments_lexer": "ipython3",
   "version": "3.6.1"
  },
  "toc": {
   "colors": {
    "hover_highlight": "#DAA520",
    "running_highlight": "#FF0000",
    "selected_highlight": "#FFD700"
   },
   "moveMenuLeft": true,
   "nav_menu": {
    "height": "12px",
    "width": "252px"
   },
   "navigate_menu": true,
   "number_sections": true,
   "sideBar": true,
   "threshold": 4,
   "toc_cell": false,
   "toc_section_display": "block",
   "toc_window_display": false,
   "widenNotebook": false
  }
 },
 "nbformat": 4,
 "nbformat_minor": 2
}
