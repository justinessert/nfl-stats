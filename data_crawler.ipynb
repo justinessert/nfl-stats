{
 "cells": [
  {
   "cell_type": "code",
   "execution_count": 1,
   "metadata": {
    "collapsed": true
   },
   "outputs": [],
   "source": [
    "import requests\n",
    "from bs4 import BeautifulSoup\n",
    "import pandas as pd"
   ]
  },
  {
   "cell_type": "code",
   "execution_count": 2,
   "metadata": {
    "collapsed": true
   },
   "outputs": [],
   "source": [
    "url_pre = \"http://ballerstein17.league.fantasy.nfl.com/research/pointsagainst?position=\"\n",
    "url_suf = \"&sort=pointsAgainst_pts&statCategory=pointsAgainst&statSeason=2016&statType=weekPointsAgainst&statWeek=\"\n",
    "df = pd.DataFrame()\n",
    "pos_list = ['QB','RB','WR','TE','K','DEF']\n",
    "for pos in range(len(pos_list)):\n",
    "    url_base = url_pre + str(pos) + url_suf\n",
    "    position = pos_list[pos]\n",
    "    for week in range(17):\n",
    "        page = requests.get(url_base+str(week+1))\n",
    "        soup_list = BeautifulSoup(page.content, 'html.parser').find_all('tr')\n",
    "        for i in soup_list:\n",
    "            row = i.find('td', class_='teamNameAndInfo')\n",
    "            if row != None:\n",
    "                team = list(row.find('div').children)[1]\n",
    "                opp = i.find('span', class_='pointsAgainstStatId-opponent').get_text()\n",
    "                pts = i.find('span', class_='pointsAgainstStatId-pts').get_text()\n",
    "                df_team = pd.DataFrame({'Team':[team], 'Position':[position], 'Week':[(week+1)], 'Year':2016, 'Opponent':[opp], 'Points_Against':[pts]})\n",
    "                df = pd.concat([df, df_team])"
   ]
  },
  {
   "cell_type": "code",
   "execution_count": 7,
   "metadata": {
    "collapsed": true
   },
   "outputs": [],
   "source": [
    "for pos in df.Position.unique():\n",
    "    for team in df.Team.unique():\n",
    "        ave = df[(df.Team == team) & (df.Position == pos)].Points_Against.astype(str).astype(float).sum() / 16\n",
    "        std = df[(df.Team == team) & (df.Position == pos)].Points_Against.astype(str).astype(float).std()\n",
    "        df.loc[(df.Team == team) & (df.Position == pos), 'Season_Ave'] = ave\n",
    "        df.loc[(df.Team == team) & (df.Position == pos), 'Season_STD'] = std"
   ]
  },
  {
   "cell_type": "code",
   "execution_count": 9,
   "metadata": {
    "collapsed": true
   },
   "outputs": [],
   "source": [
    "df.to_csv('points_against.csv')"
   ]
  },
  {
   "cell_type": "code",
   "execution_count": 11,
   "metadata": {},
   "outputs": [
    {
     "data": {
      "text/html": [
       "<div>\n",
       "<style>\n",
       "    .dataframe thead tr:only-child th {\n",
       "        text-align: right;\n",
       "    }\n",
       "\n",
       "    .dataframe thead th {\n",
       "        text-align: left;\n",
       "    }\n",
       "\n",
       "    .dataframe tbody tr th {\n",
       "        vertical-align: top;\n",
       "    }\n",
       "</style>\n",
       "<table border=\"1\" class=\"dataframe\">\n",
       "  <thead>\n",
       "    <tr style=\"text-align: right;\">\n",
       "      <th></th>\n",
       "      <th>Opponent</th>\n",
       "      <th>Points_Against</th>\n",
       "      <th>Position</th>\n",
       "      <th>Team</th>\n",
       "      <th>Week</th>\n",
       "      <th>Year</th>\n",
       "      <th>Season_Ave</th>\n",
       "      <th>Season_STD</th>\n",
       "    </tr>\n",
       "  </thead>\n",
       "  <tbody>\n",
       "    <tr>\n",
       "      <th>0</th>\n",
       "      <td>@GB</td>\n",
       "      <td>26.40</td>\n",
       "      <td>QB</td>\n",
       "      <td>Detroit Lions Defense</td>\n",
       "      <td>3</td>\n",
       "      <td>2016</td>\n",
       "      <td>18.97750</td>\n",
       "      <td>9.830612</td>\n",
       "    </tr>\n",
       "    <tr>\n",
       "      <th>0</th>\n",
       "      <td>@GB</td>\n",
       "      <td>26.40</td>\n",
       "      <td>RB</td>\n",
       "      <td>Detroit Lions Defense</td>\n",
       "      <td>3</td>\n",
       "      <td>2016</td>\n",
       "      <td>18.97750</td>\n",
       "      <td>9.830612</td>\n",
       "    </tr>\n",
       "    <tr>\n",
       "      <th>0</th>\n",
       "      <td>@GB</td>\n",
       "      <td>11.20</td>\n",
       "      <td>WR</td>\n",
       "      <td>Detroit Lions Defense</td>\n",
       "      <td>3</td>\n",
       "      <td>2016</td>\n",
       "      <td>16.09375</td>\n",
       "      <td>5.820021</td>\n",
       "    </tr>\n",
       "    <tr>\n",
       "      <th>0</th>\n",
       "      <td>@GB</td>\n",
       "      <td>33.70</td>\n",
       "      <td>TE</td>\n",
       "      <td>Detroit Lions Defense</td>\n",
       "      <td>3</td>\n",
       "      <td>2016</td>\n",
       "      <td>24.43125</td>\n",
       "      <td>11.217869</td>\n",
       "    </tr>\n",
       "    <tr>\n",
       "      <th>0</th>\n",
       "      <td>@GB</td>\n",
       "      <td>9.70</td>\n",
       "      <td>K</td>\n",
       "      <td>Detroit Lions Defense</td>\n",
       "      <td>3</td>\n",
       "      <td>2016</td>\n",
       "      <td>9.69375</td>\n",
       "      <td>6.776294</td>\n",
       "    </tr>\n",
       "  </tbody>\n",
       "</table>\n",
       "</div>"
      ],
      "text/plain": [
       "  Opponent Points_Against Position                   Team  Week  Year  \\\n",
       "0      @GB          26.40       QB  Detroit Lions Defense     3  2016   \n",
       "0      @GB          26.40       RB  Detroit Lions Defense     3  2016   \n",
       "0      @GB          11.20       WR  Detroit Lions Defense     3  2016   \n",
       "0      @GB          33.70       TE  Detroit Lions Defense     3  2016   \n",
       "0      @GB           9.70        K  Detroit Lions Defense     3  2016   \n",
       "\n",
       "   Season_Ave  Season_STD  \n",
       "0    18.97750    9.830612  \n",
       "0    18.97750    9.830612  \n",
       "0    16.09375    5.820021  \n",
       "0    24.43125   11.217869  \n",
       "0     9.69375    6.776294  "
      ]
     },
     "execution_count": 11,
     "metadata": {},
     "output_type": "execute_result"
    }
   ],
   "source": [
    "df[(df.Opponent=='@GB') & (df.Team=='Detroit Lions Defense')]"
   ]
  },
  {
   "cell_type": "code",
   "execution_count": null,
   "metadata": {
    "collapsed": true
   },
   "outputs": [],
   "source": []
  }
 ],
 "metadata": {
  "kernelspec": {
   "display_name": "Python 3",
   "language": "python",
   "name": "python3"
  },
  "language_info": {
   "codemirror_mode": {
    "name": "ipython",
    "version": 3
   },
   "file_extension": ".py",
   "mimetype": "text/x-python",
   "name": "python",
   "nbconvert_exporter": "python",
   "pygments_lexer": "ipython3",
   "version": "3.6.1"
  },
  "toc": {
   "colors": {
    "hover_highlight": "#DAA520",
    "running_highlight": "#FF0000",
    "selected_highlight": "#FFD700"
   },
   "moveMenuLeft": true,
   "nav_menu": {
    "height": "12px",
    "width": "252px"
   },
   "navigate_menu": true,
   "number_sections": true,
   "sideBar": true,
   "threshold": 4,
   "toc_cell": false,
   "toc_section_display": "block",
   "toc_window_display": false,
   "widenNotebook": false
  }
 },
 "nbformat": 4,
 "nbformat_minor": 2
}
